{
  "cells": [
    {
      "cell_type": "code",
      "execution_count": 1,
      "metadata": {
        "pycharm": {}
      },
      "outputs": [
        {
          "name": "stdout",
          "output_type": "stream",
          "text": [
            "74\n"
          ]
        }
      ],
      "source": "prices \u003d {\n    \"box_of_spaghetti\" : 4,\n    \"lasagna\"  : 5,\n    \"hamburger\" : 2\n   }\nquantity \u003d {\n    \"box_of_spaghetti\" : 6,\n    \"lasagna\"  : 10,\n    \"hamburger\" : 0\n    }\n\nmoney_spent \u003d 0\n\nfor i in prices:\n    money_spent \u003d money_spent + (prices[i]*quantity[i])\n    \nprint (money_spent)"
    }
  ],
  "metadata": {
    "kernelspec": {
      "display_name": "Python 3",
      "language": "python",
      "name": "python3"
    },
    "language_info": {
      "codemirror_mode": {
        "name": "ipython",
        "version": 3
      },
      "file_extension": ".py",
      "mimetype": "text/x-python",
      "name": "python",
      "nbconvert_exporter": "python",
      "pygments_lexer": "ipython3",
      "version": "3.6.4"
    }
  },
  "nbformat": 4,
  "nbformat_minor": 2
}