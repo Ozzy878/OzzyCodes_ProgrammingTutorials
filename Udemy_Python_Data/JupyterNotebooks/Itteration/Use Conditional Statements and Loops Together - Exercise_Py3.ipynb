{
  "cells": [
    {
      "cell_type": "markdown",
      "metadata": {
        "pycharm": {}
      },
      "source": [
        "## Use Conditional Statements and Loops Together"
      ]
    },
    {
      "cell_type": "markdown",
      "metadata": {
        "pycharm": {}
      },
      "source": [
        "Create a For loop that will print all the variables from a given list multiplied by 2. Let the list contain all numbers from 1 to 10. Create it with the help of the range() function."
      ]
    },
    {
      "cell_type": "code",
      "execution_count": 11,
      "metadata": {
        "collapsed": true,
        "pycharm": {
          "is_executing": false
        }
      },
      "outputs": [
        {
          "name": "stdout",
          "text": [
            "2\n4\n6\n8\n10\n12\n14\n16\n18\n"
          ],
          "output_type": "stream"
        }
      ],
      "source": "for y in range(1,10):\n    print(y * 2)\n    "
    },
    {
      "cell_type": "markdown",
      "metadata": {
        "pycharm": {}
      },
      "source": [
        "Create a little program that runs a loop over all values from 1 to 30. Let it print all Odd numbers, and in the place of the even numbers, it should print \"Even\".\n",
        "Help yourself with the range() function to solve this exercise."
      ]
    },
    {
      "cell_type": "code",
      "execution_count": 12,
      "metadata": {
        "collapsed": true,
        "pycharm": {
          "is_executing": false
        }
      },
      "outputs": [
        {
          "name": "stdout",
          "text": [
            "1 Even 3 Even 5 Even 7 Even 9 Even 11 Even 13 Even 15 Even 17 Even 19 Even 21 Even 23 Even 25 Even 27 Even 29 "
          ],
          "output_type": "stream"
        }
      ],
      "source": "for x in range(1,30):\n    if x % 2 \u003d\u003d 0:\n        print(\"Even\", end\u003d\" \")\n    else:\n        print(x, end\u003d\" \")"
    },
    {
      "cell_type": "markdown",
      "metadata": {
        "pycharm": {}
      },
      "source": [
        "You have the following list of numbers. Iterate over this list, printing out each list value multiplied by 10.\n",
        "Find two solutions of this problem."
      ]
    },
    {
      "cell_type": "code",
      "execution_count": 13,
      "metadata": {
        "collapsed": true,
        "pycharm": {
          "is_executing": false
        }
      },
      "outputs": [],
      "source": [
        "n \u003d [1,2,3,4,5,6]"
      ]
    },
    {
      "cell_type": "code",
      "execution_count": 19,
      "metadata": {
        "collapsed": true,
        "pycharm": {
          "is_executing": false
        }
      },
      "outputs": [
        {
          "name": "stdout",
          "text": [
            "10\n20\n30\n40\n50\n60\n"
          ],
          "output_type": "stream"
        }
      ],
      "source": "for num in n:\n    print(num * 10)"
    },
    {
      "cell_type": "code",
      "execution_count": 20,
      "outputs": [
        {
          "name": "stdout",
          "text": [
            "10\n20\n30\n40\n50\n60\n"
          ],
          "output_type": "stream"
        }
      ],
      "source": "for num in range(len(n)):\n    print(n[num] * 10)",
      "metadata": {
        "pycharm": {
          "metadata": false,
          "name": "#%%\n",
          "is_executing": false
        }
      }
    },
    {
      "cell_type": "code",
      "execution_count": null,
      "outputs": [],
      "source": "\n",
      "metadata": {
        "pycharm": {
          "metadata": false,
          "name": "#%%\n"
        }
      }
    }
  ],
  "metadata": {
    "anaconda-cloud": {},
    "kernelspec": {
      "display_name": "Python 3",
      "language": "python",
      "name": "python3"
    },
    "language_info": {
      "codemirror_mode": {
        "name": "ipython",
        "version": 3
      },
      "file_extension": ".py",
      "mimetype": "text/x-python",
      "name": "python",
      "nbconvert_exporter": "python",
      "pygments_lexer": "ipython3",
      "version": "3.6.4"
    }
  },
  "nbformat": 4,
  "nbformat_minor": 1
}