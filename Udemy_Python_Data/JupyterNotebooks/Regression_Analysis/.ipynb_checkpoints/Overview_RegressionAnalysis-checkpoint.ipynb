{
 "cells": [
  {
   "cell_type": "markdown",
   "metadata": {},
   "source": [
    "### Regression Analysis"
   ]
  },
  {
   "cell_type": "markdown",
   "metadata": {},
   "source": [
    "##### Statistical methods\n",
    " - Simple Linear Regression\n",
    " - Multiple Linear Regression\n",
    " - How to build a Regression\n",
    " - How to Interpret Regression\n",
    " - How to compare different models"
   ]
  },
  {
   "cell_type": "markdown",
   "metadata": {},
   "source": [
    "#### Linear Regression\n",
    " - A Linear Regression is a linear approximate of a casual relationship between two or more variables\n",
    " \n",
    "##### Process\n",
    " 1. Get sample data\n",
    " 2. Design a model that works for that sample\n",
    " 3. Make predictions for the whole population\n",
    "\n",
    "###### Dependent (Predicted)\n",
    " - Y\n",
    " \n",
    "###### Independent (Predictors)\n",
    " - x1, x2, ..., xk"
   ]
  },
  {
   "cell_type": "markdown",
   "metadata": {},
   "source": [
    "### Correlation Analysis\n",
    " - Relationship between two variables\n",
    " - Movement together\n",
    " - p(x,y) = p(y,x)\n",
    " - Single point graphical display opposed to linear regressions line graph"
   ]
  }
 ],
 "metadata": {
  "kernelspec": {
   "display_name": "Python 3",
   "language": "python",
   "name": "python3"
  },
  "language_info": {
   "codemirror_mode": {
    "name": "ipython",
    "version": 3
   },
   "file_extension": ".py",
   "mimetype": "text/x-python",
   "name": "python",
   "nbconvert_exporter": "python",
   "pygments_lexer": "ipython3",
   "version": "3.7.3"
  }
 },
 "nbformat": 4,
 "nbformat_minor": 2
}
